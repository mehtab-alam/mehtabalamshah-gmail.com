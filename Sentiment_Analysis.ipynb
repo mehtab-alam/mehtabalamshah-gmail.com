{
  "nbformat": 4,
  "nbformat_minor": 0,
  "metadata": {
    "colab": {
      "name": "Sentiment-Analysis.ipynb",
      "provenance": [],
      "collapsed_sections": [],
      "authorship_tag": "ABX9TyOkVRgw+hSIzFs5yHd8MtOb",
      "include_colab_link": true
    },
    "kernelspec": {
      "name": "python3",
      "display_name": "Python 3"
    },
    "language_info": {
      "name": "python"
    }
  },
  "cells": [
    {
      "cell_type": "markdown",
      "metadata": {
        "id": "view-in-github",
        "colab_type": "text"
      },
      "source": [
        "<a href=\"https://colab.research.google.com/github/mehtab-alam/mehtabalamshah-gmail.com/blob/master/Sentiment_Analysis.ipynb\" target=\"_parent\"><img src=\"https://colab.research.google.com/assets/colab-badge.svg\" alt=\"Open In Colab\"/></a>"
      ]
    },
    {
      "cell_type": "markdown",
      "metadata": {
        "id": "clVw-ixeen4f"
      },
      "source": [
        "**1. Install Pre-requisite libraries**"
      ]
    },
    {
      "cell_type": "code",
      "metadata": {
        "colab": {
          "base_uri": "https://localhost:8080/"
        },
        "id": "shX8nVXsRMel",
        "outputId": "6fdd17eb-5a45-4bec-c36d-bdc549253338"
      },
      "source": [
        "pip install tweet-preprocessor"
      ],
      "execution_count": 107,
      "outputs": [
        {
          "output_type": "stream",
          "text": [
            "Requirement already satisfied: tweet-preprocessor in /usr/local/lib/python3.7/dist-packages (0.6.0)\n"
          ],
          "name": "stdout"
        }
      ]
    },
    {
      "cell_type": "markdown",
      "metadata": {
        "id": "QBNBpDH1e08-"
      },
      "source": [
        "**2. Import the necessary packages**"
      ]
    },
    {
      "cell_type": "code",
      "metadata": {
        "id": "dmp6t6yoXWXT"
      },
      "source": [
        "import pandas as pd\n",
        "from sklearn.feature_extraction.text import CountVectorizer, TfidfVectorizer\n",
        "import numpy as np\n",
        "import pickle\n",
        "import preprocessor as p\n",
        "from sklearn.model_selection import train_test_split\n",
        "from sklearn.linear_model import LogisticRegression\n",
        "from sklearn.ensemble import RandomForestRegressor\n",
        "import random\n",
        "import matplotlib.pyplot as plt\n",
        "import seaborn as sns\n",
        "from sklearn.metrics import accuracy_score\n",
        "from sklearn.metrics import confusion_matrix\n",
        "from google.colab import drive\n",
        "from sklearn.pipeline import make_pipeline\n",
        "from sklearn.preprocessing import StandardScaler\n",
        "from sklearn.svm import LinearSVC\n",
        "\n",
        "n_gram_max = 1\n",
        "n_gram_min = 1 \n"
      ],
      "execution_count": 108,
      "outputs": []
    },
    {
      "cell_type": "markdown",
      "metadata": {
        "id": "7sD83X5Te9Iw"
      },
      "source": [
        "**3. Mount google drive, read dataset CSV file and print the top 10 rows of dataset.** \n",
        "\n",
        "**Note: In my case i uploaded the dataset (*training.1.6.processed.csv*) already on Google Drive in the google colab folder**"
      ]
    },
    {
      "cell_type": "code",
      "metadata": {
        "colab": {
          "base_uri": "https://localhost:8080/",
          "height": 461
        },
        "id": "VrNdUTaUCR6M",
        "outputId": "ffb5a672-690e-46c4-c831-24a9c5240a13"
      },
      "source": [
        "# Mount again if it is needed in case\n",
        "pd.set_option('display.max_columns', None) \n",
        "drive.mount('/content/gdrive', force_remount= True)\n",
        "df = pd.read_csv('/content/gdrive/MyDrive/Colab Notebooks/datasets/training.1.6.noemoticon.csv', encoding='latin1')\n",
        "print(\"Shape of df:\",df.shape)\n",
        "print(\"Counts:\\n\",df.target.value_counts())\n",
        "df.head(10)"
      ],
      "execution_count": 109,
      "outputs": [
        {
          "output_type": "stream",
          "text": [
            "Mounted at /content/gdrive\n",
            "Shape of df: (1599999, 6)\n",
            "Counts:\n",
            " 4    800000\n",
            "0    799999\n",
            "Name: target, dtype: int64\n"
          ],
          "name": "stdout"
        },
        {
          "output_type": "execute_result",
          "data": {
            "text/html": [
              "<div>\n",
              "<style scoped>\n",
              "    .dataframe tbody tr th:only-of-type {\n",
              "        vertical-align: middle;\n",
              "    }\n",
              "\n",
              "    .dataframe tbody tr th {\n",
              "        vertical-align: top;\n",
              "    }\n",
              "\n",
              "    .dataframe thead th {\n",
              "        text-align: right;\n",
              "    }\n",
              "</style>\n",
              "<table border=\"1\" class=\"dataframe\">\n",
              "  <thead>\n",
              "    <tr style=\"text-align: right;\">\n",
              "      <th></th>\n",
              "      <th>target</th>\n",
              "      <th>id</th>\n",
              "      <th>date</th>\n",
              "      <th>flag</th>\n",
              "      <th>user</th>\n",
              "      <th>text</th>\n",
              "    </tr>\n",
              "  </thead>\n",
              "  <tbody>\n",
              "    <tr>\n",
              "      <th>0</th>\n",
              "      <td>0</td>\n",
              "      <td>1467810672</td>\n",
              "      <td>Mon Apr 06 22:19:49 PDT 2009</td>\n",
              "      <td>NO_QUERY</td>\n",
              "      <td>scotthamilton</td>\n",
              "      <td>is upset that he can't update his Facebook by ...</td>\n",
              "    </tr>\n",
              "    <tr>\n",
              "      <th>1</th>\n",
              "      <td>0</td>\n",
              "      <td>1467810917</td>\n",
              "      <td>Mon Apr 06 22:19:53 PDT 2009</td>\n",
              "      <td>NO_QUERY</td>\n",
              "      <td>mattycus</td>\n",
              "      <td>@Kenichan I dived many times for the ball. Man...</td>\n",
              "    </tr>\n",
              "    <tr>\n",
              "      <th>2</th>\n",
              "      <td>0</td>\n",
              "      <td>1467811184</td>\n",
              "      <td>Mon Apr 06 22:19:57 PDT 2009</td>\n",
              "      <td>NO_QUERY</td>\n",
              "      <td>ElleCTF</td>\n",
              "      <td>my whole body feels itchy and like its on fire</td>\n",
              "    </tr>\n",
              "    <tr>\n",
              "      <th>3</th>\n",
              "      <td>0</td>\n",
              "      <td>1467811193</td>\n",
              "      <td>Mon Apr 06 22:19:57 PDT 2009</td>\n",
              "      <td>NO_QUERY</td>\n",
              "      <td>Karoli</td>\n",
              "      <td>@nationwideclass no, it's not behaving at all....</td>\n",
              "    </tr>\n",
              "    <tr>\n",
              "      <th>4</th>\n",
              "      <td>0</td>\n",
              "      <td>1467811372</td>\n",
              "      <td>Mon Apr 06 22:20:00 PDT 2009</td>\n",
              "      <td>NO_QUERY</td>\n",
              "      <td>joy_wolf</td>\n",
              "      <td>@Kwesidei not the whole crew</td>\n",
              "    </tr>\n",
              "    <tr>\n",
              "      <th>5</th>\n",
              "      <td>0</td>\n",
              "      <td>1467811592</td>\n",
              "      <td>Mon Apr 06 22:20:03 PDT 2009</td>\n",
              "      <td>NO_QUERY</td>\n",
              "      <td>mybirch</td>\n",
              "      <td>Need a hug</td>\n",
              "    </tr>\n",
              "    <tr>\n",
              "      <th>6</th>\n",
              "      <td>0</td>\n",
              "      <td>1467811594</td>\n",
              "      <td>Mon Apr 06 22:20:03 PDT 2009</td>\n",
              "      <td>NO_QUERY</td>\n",
              "      <td>coZZ</td>\n",
              "      <td>@LOLTrish hey  long time no see! Yes.. Rains a...</td>\n",
              "    </tr>\n",
              "    <tr>\n",
              "      <th>7</th>\n",
              "      <td>0</td>\n",
              "      <td>1467811795</td>\n",
              "      <td>Mon Apr 06 22:20:05 PDT 2009</td>\n",
              "      <td>NO_QUERY</td>\n",
              "      <td>2Hood4Hollywood</td>\n",
              "      <td>@Tatiana_K nope they didn't have it</td>\n",
              "    </tr>\n",
              "    <tr>\n",
              "      <th>8</th>\n",
              "      <td>0</td>\n",
              "      <td>1467812025</td>\n",
              "      <td>Mon Apr 06 22:20:09 PDT 2009</td>\n",
              "      <td>NO_QUERY</td>\n",
              "      <td>mimismo</td>\n",
              "      <td>@twittera que me muera ?</td>\n",
              "    </tr>\n",
              "    <tr>\n",
              "      <th>9</th>\n",
              "      <td>0</td>\n",
              "      <td>1467812416</td>\n",
              "      <td>Mon Apr 06 22:20:16 PDT 2009</td>\n",
              "      <td>NO_QUERY</td>\n",
              "      <td>erinx3leannexo</td>\n",
              "      <td>spring break in plain city... it's snowing</td>\n",
              "    </tr>\n",
              "  </tbody>\n",
              "</table>\n",
              "</div>"
            ],
            "text/plain": [
              "   target          id                          date      flag  \\\n",
              "0       0  1467810672  Mon Apr 06 22:19:49 PDT 2009  NO_QUERY   \n",
              "1       0  1467810917  Mon Apr 06 22:19:53 PDT 2009  NO_QUERY   \n",
              "2       0  1467811184  Mon Apr 06 22:19:57 PDT 2009  NO_QUERY   \n",
              "3       0  1467811193  Mon Apr 06 22:19:57 PDT 2009  NO_QUERY   \n",
              "4       0  1467811372  Mon Apr 06 22:20:00 PDT 2009  NO_QUERY   \n",
              "5       0  1467811592  Mon Apr 06 22:20:03 PDT 2009  NO_QUERY   \n",
              "6       0  1467811594  Mon Apr 06 22:20:03 PDT 2009  NO_QUERY   \n",
              "7       0  1467811795  Mon Apr 06 22:20:05 PDT 2009  NO_QUERY   \n",
              "8       0  1467812025  Mon Apr 06 22:20:09 PDT 2009  NO_QUERY   \n",
              "9       0  1467812416  Mon Apr 06 22:20:16 PDT 2009  NO_QUERY   \n",
              "\n",
              "              user                                               text  \n",
              "0    scotthamilton  is upset that he can't update his Facebook by ...  \n",
              "1         mattycus  @Kenichan I dived many times for the ball. Man...  \n",
              "2          ElleCTF    my whole body feels itchy and like its on fire   \n",
              "3           Karoli  @nationwideclass no, it's not behaving at all....  \n",
              "4         joy_wolf                      @Kwesidei not the whole crew   \n",
              "5          mybirch                                        Need a hug   \n",
              "6             coZZ  @LOLTrish hey  long time no see! Yes.. Rains a...  \n",
              "7  2Hood4Hollywood               @Tatiana_K nope they didn't have it   \n",
              "8          mimismo                          @twittera que me muera ?   \n",
              "9   erinx3leannexo        spring break in plain city... it's snowing   "
            ]
          },
          "metadata": {},
          "execution_count": 109
        }
      ]
    },
    {
      "cell_type": "markdown",
      "metadata": {
        "id": "yS5k9m-6bfFv"
      },
      "source": [
        "**3.1. Plot the dataset**"
      ]
    },
    {
      "cell_type": "code",
      "metadata": {
        "colab": {
          "base_uri": "https://localhost:8080/",
          "height": 333
        },
        "id": "9WlvJ0LwbiOe",
        "outputId": "2b90f7cc-1261-4b5f-8763-5e2d81036c79"
      },
      "source": [
        "# \n",
        "sns.countplot(df.target,)\n",
        "plt.xlabel('class label')\n",
        "plt.ylabel('number of tweets')\n",
        "plt.show()"
      ],
      "execution_count": 110,
      "outputs": [
        {
          "output_type": "stream",
          "text": [
            "/usr/local/lib/python3.7/dist-packages/seaborn/_decorators.py:43: FutureWarning: Pass the following variable as a keyword arg: x. From version 0.12, the only valid positional argument will be `data`, and passing other arguments without an explicit keyword will result in an error or misinterpretation.\n",
            "  FutureWarning\n"
          ],
          "name": "stderr"
        },
        {
          "output_type": "display_data",
          "data": {
            "image/png": "[encoded data removed]",
            "text/plain": [
              "<Figure size 432x288 with 1 Axes>"
            ]
          },
          "metadata": {
            "needs_background": "light"
          }
        }
      ]
    },
    {
      "cell_type": "markdown",
      "metadata": {
        "id": "ZNbTXgcWVxEc"
      },
      "source": [
        "**3.2. Plot histogram of labelled data**"
      ]
    },
    {
      "cell_type": "code",
      "metadata": {
        "colab": {
          "base_uri": "https://localhost:8080/",
          "height": 541
        },
        "id": "Ax5xqvdCVo7P",
        "outputId": "febb1e78-508e-4617-e91d-98e6d5006767"
      },
      "source": [
        "plt.hist(df[df['target']==4].text.str.len(),bins=20,label='class 4')\n",
        "plt.legend()\n",
        "plt.xlabel('length of tweets')\n",
        "plt.ylabel('number of tweets')\n",
        "plt.show()\n",
        "plt.hist(df[df['target']==0].text.str.len(),color='yellow',bins=20,label='class 0')\n",
        "plt.legend()\n",
        "plt.xlabel('length of tweets')\n",
        "plt.ylabel('number of tweets')\n",
        "plt.show()"
      ],
      "execution_count": 111,
      "outputs": [
        {
          "output_type": "display_data",
          "data": {
            "image/png": "[encoded data removed]",
            "text/plain": [
              "<Figure size 432x288 with 1 Axes>"
            ]
          },
          "metadata": {
            "needs_background": "light"
          }
        },
        {
          "output_type": "display_data",
          "data": {
            "image/png": "[encoded data removed]",
            "text/plain": [
              "<Figure size 432x288 with 1 Axes>"
            ]
          },
          "metadata": {
            "needs_background": "light"
          }
        }
      ]
    },
    {
      "cell_type": "markdown",
      "metadata": {
        "id": "jj0g4yFigDmb"
      },
      "source": [
        "**4. Print the unique sentiment(targets column) in the datset**"
      ]
    },
    {
      "cell_type": "code",
      "metadata": {
        "id": "I0qFW13SemjH",
        "colab": {
          "base_uri": "https://localhost:8080/"
        },
        "outputId": "4ac87719-baed-4487-a8b8-73907a6ebd70"
      },
      "source": [
        "df['target'].unique()"
      ],
      "execution_count": 112,
      "outputs": [
        {
          "output_type": "execute_result",
          "data": {
            "text/plain": [
              "array([0, 4])"
            ]
          },
          "metadata": {},
          "execution_count": 112
        }
      ]
    },
    {
      "cell_type": "markdown",
      "metadata": {
        "id": "Lxn7tCsRgTC2"
      },
      "source": [
        "**5. Method to remove punction from text**"
      ]
    },
    {
      "cell_type": "code",
      "metadata": {
        "id": "_1NcfKBUoY1h"
      },
      "source": [
        "def preprocessing(text):\n",
        "    final = \"\".join(u for u in text if u not in (\"?\", \".\", \";\", \":\",  \"!\",'\"'))\n",
        "    final = p.clean(final)\n",
        "    final = str.lower(final)\n",
        "    return final"
      ],
      "execution_count": 113,
      "outputs": []
    },
    {
      "cell_type": "markdown",
      "metadata": {
        "id": "Fyj7-relgace"
      },
      "source": [
        "**6. Clean the text using Tweet-Preprocess Library and clean punctuations too**"
      ]
    },
    {
      "cell_type": "code",
      "metadata": {
        "colab": {
          "base_uri": "https://localhost:8080/"
        },
        "id": "VxkLwiFtnMdM",
        "outputId": "37ba798c-a510-4546-9486-853ae91aeff4"
      },
      "source": [
        "#df['text'] = df['text'].apply(p.clean) \n",
        "#df['text'] = df['text'].apply(remove_punctuation)\n",
        "#df['text'] = df['text'].apply(str.lower)\n",
        "df['text'] = df['text'].apply(preprocessing)\n",
        "\n",
        "df['text']"
      ],
      "execution_count": 114,
      "outputs": [
        {
          "output_type": "execute_result",
          "data": {
            "text/plain": [
              "0          is upset that he can't update his facebook by ...\n",
              "1          i dived many times for the ball managed to sav...\n",
              "2             my whole body feels itchy and like its on fire\n",
              "3          no, it's not behaving at all i'm mad why am i ...\n",
              "4                                         not the whole crew\n",
              "                                 ...                        \n",
              "1599994    just woke up having no school is the best feel...\n",
              "1599995    thewdbcom - very cool to hear old walt intervi...\n",
              "1599996    are you ready for your mojo makeover ask me fo...\n",
              "1599997    happy th birthday to my boo of alll time tupac...\n",
              "1599998                                                happy\n",
              "Name: text, Length: 1599999, dtype: object"
            ]
          },
          "metadata": {},
          "execution_count": 114
        }
      ]
    },
    {
      "cell_type": "markdown",
      "metadata": {
        "id": "XK_KgBGYgrdW"
      },
      "source": [
        "**7. Create a new dataframe including two columns(text -> Cleaned text), (target -> sentiment score). Print it**"
      ]
    },
    {
      "cell_type": "code",
      "metadata": {
        "colab": {
          "base_uri": "https://localhost:8080/",
          "height": 204
        },
        "id": "YWy-uXJJqA2w",
        "outputId": "39826478-24fd-435c-f4fa-6930fa7cb572"
      },
      "source": [
        "dfNew = df[['target','text']]\n",
        "dfNew.head()"
      ],
      "execution_count": 115,
      "outputs": [
        {
          "output_type": "execute_result",
          "data": {
            "text/html": [
              "<div>\n",
              "<style scoped>\n",
              "    .dataframe tbody tr th:only-of-type {\n",
              "        vertical-align: middle;\n",
              "    }\n",
              "\n",
              "    .dataframe tbody tr th {\n",
              "        vertical-align: top;\n",
              "    }\n",
              "\n",
              "    .dataframe thead th {\n",
              "        text-align: right;\n",
              "    }\n",
              "</style>\n",
              "<table border=\"1\" class=\"dataframe\">\n",
              "  <thead>\n",
              "    <tr style=\"text-align: right;\">\n",
              "      <th></th>\n",
              "      <th>target</th>\n",
              "      <th>text</th>\n",
              "    </tr>\n",
              "  </thead>\n",
              "  <tbody>\n",
              "    <tr>\n",
              "      <th>0</th>\n",
              "      <td>0</td>\n",
              "      <td>is upset that he can't update his facebook by ...</td>\n",
              "    </tr>\n",
              "    <tr>\n",
              "      <th>1</th>\n",
              "      <td>0</td>\n",
              "      <td>i dived many times for the ball managed to sav...</td>\n",
              "    </tr>\n",
              "    <tr>\n",
              "      <th>2</th>\n",
              "      <td>0</td>\n",
              "      <td>my whole body feels itchy and like its on fire</td>\n",
              "    </tr>\n",
              "    <tr>\n",
              "      <th>3</th>\n",
              "      <td>0</td>\n",
              "      <td>no, it's not behaving at all i'm mad why am i ...</td>\n",
              "    </tr>\n",
              "    <tr>\n",
              "      <th>4</th>\n",
              "      <td>0</td>\n",
              "      <td>not the whole crew</td>\n",
              "    </tr>\n",
              "  </tbody>\n",
              "</table>\n",
              "</div>"
            ],
            "text/plain": [
              "   target                                               text\n",
              "0       0  is upset that he can't update his facebook by ...\n",
              "1       0  i dived many times for the ball managed to sav...\n",
              "2       0     my whole body feels itchy and like its on fire\n",
              "3       0  no, it's not behaving at all i'm mad why am i ...\n",
              "4       0                                 not the whole crew"
            ]
          },
          "metadata": {},
          "execution_count": 115
        }
      ]
    },
    {
      "cell_type": "markdown",
      "metadata": {
        "id": "wxmCTIKlhFOD"
      },
      "source": [
        "**8. Split train and test data with 80% and 20%**"
      ]
    },
    {
      "cell_type": "code",
      "metadata": {
        "id": "vwkNhbgrqNbJ",
        "colab": {
          "base_uri": "https://localhost:8080/",
          "height": 289
        },
        "outputId": "754351c6-6b01-45e4-d645-0956ad999a9d"
      },
      "source": [
        "# random split train and test data\n",
        "index = df.index\n",
        "df['random_number'] = np.random.randn(len(index))\n",
        "train = df[df['random_number'] <= 0.8]\n",
        "test = df[df['random_number'] > 0.8]\n",
        "\n",
        "train.head()\n",
        "#test.head()"
      ],
      "execution_count": 116,
      "outputs": [
        {
          "output_type": "execute_result",
          "data": {
            "text/html": [
              "<div>\n",
              "<style scoped>\n",
              "    .dataframe tbody tr th:only-of-type {\n",
              "        vertical-align: middle;\n",
              "    }\n",
              "\n",
              "    .dataframe tbody tr th {\n",
              "        vertical-align: top;\n",
              "    }\n",
              "\n",
              "    .dataframe thead th {\n",
              "        text-align: right;\n",
              "    }\n",
              "</style>\n",
              "<table border=\"1\" class=\"dataframe\">\n",
              "  <thead>\n",
              "    <tr style=\"text-align: right;\">\n",
              "      <th></th>\n",
              "      <th>target</th>\n",
              "      <th>id</th>\n",
              "      <th>date</th>\n",
              "      <th>flag</th>\n",
              "      <th>user</th>\n",
              "      <th>text</th>\n",
              "      <th>random_number</th>\n",
              "    </tr>\n",
              "  </thead>\n",
              "  <tbody>\n",
              "    <tr>\n",
              "      <th>0</th>\n",
              "      <td>0</td>\n",
              "      <td>1467810672</td>\n",
              "      <td>Mon Apr 06 22:19:49 PDT 2009</td>\n",
              "      <td>NO_QUERY</td>\n",
              "      <td>scotthamilton</td>\n",
              "      <td>is upset that he can't update his facebook by ...</td>\n",
              "      <td>-1.329241</td>\n",
              "    </tr>\n",
              "    <tr>\n",
              "      <th>2</th>\n",
              "      <td>0</td>\n",
              "      <td>1467811184</td>\n",
              "      <td>Mon Apr 06 22:19:57 PDT 2009</td>\n",
              "      <td>NO_QUERY</td>\n",
              "      <td>ElleCTF</td>\n",
              "      <td>my whole body feels itchy and like its on fire</td>\n",
              "      <td>-0.042633</td>\n",
              "    </tr>\n",
              "    <tr>\n",
              "      <th>3</th>\n",
              "      <td>0</td>\n",
              "      <td>1467811193</td>\n",
              "      <td>Mon Apr 06 22:19:57 PDT 2009</td>\n",
              "      <td>NO_QUERY</td>\n",
              "      <td>Karoli</td>\n",
              "      <td>no, it's not behaving at all i'm mad why am i ...</td>\n",
              "      <td>0.404797</td>\n",
              "    </tr>\n",
              "    <tr>\n",
              "      <th>4</th>\n",
              "      <td>0</td>\n",
              "      <td>1467811372</td>\n",
              "      <td>Mon Apr 06 22:20:00 PDT 2009</td>\n",
              "      <td>NO_QUERY</td>\n",
              "      <td>joy_wolf</td>\n",
              "      <td>not the whole crew</td>\n",
              "      <td>0.561952</td>\n",
              "    </tr>\n",
              "    <tr>\n",
              "      <th>6</th>\n",
              "      <td>0</td>\n",
              "      <td>1467811594</td>\n",
              "      <td>Mon Apr 06 22:20:03 PDT 2009</td>\n",
              "      <td>NO_QUERY</td>\n",
              "      <td>coZZ</td>\n",
              "      <td>hey long time no see yes rains a bit ,only a b...</td>\n",
              "      <td>0.229233</td>\n",
              "    </tr>\n",
              "  </tbody>\n",
              "</table>\n",
              "</div>"
            ],
            "text/plain": [
              "   target          id                          date      flag           user  \\\n",
              "0       0  1467810672  Mon Apr 06 22:19:49 PDT 2009  NO_QUERY  scotthamilton   \n",
              "2       0  1467811184  Mon Apr 06 22:19:57 PDT 2009  NO_QUERY        ElleCTF   \n",
              "3       0  1467811193  Mon Apr 06 22:19:57 PDT 2009  NO_QUERY         Karoli   \n",
              "4       0  1467811372  Mon Apr 06 22:20:00 PDT 2009  NO_QUERY       joy_wolf   \n",
              "6       0  1467811594  Mon Apr 06 22:20:03 PDT 2009  NO_QUERY           coZZ   \n",
              "\n",
              "                                                text  random_number  \n",
              "0  is upset that he can't update his facebook by ...      -1.329241  \n",
              "2     my whole body feels itchy and like its on fire      -0.042633  \n",
              "3  no, it's not behaving at all i'm mad why am i ...       0.404797  \n",
              "4                                 not the whole crew       0.561952  \n",
              "6  hey long time no see yes rains a bit ,only a b...       0.229233  "
            ]
          },
          "metadata": {},
          "execution_count": 116
        }
      ]
    },
    {
      "cell_type": "markdown",
      "metadata": {
        "id": "ulFsQ2eLhPvI"
      },
      "source": [
        "**9. Extract features using BOW Count Vectorizer from train and test data**"
      ]
    },
    {
      "cell_type": "code",
      "metadata": {
        "id": "01nMKLijqXcU"
      },
      "source": [
        "#vectorizer = CountVectorizer(token_pattern=r'\\b\\w+\\b')\n",
        "vectorizer = CountVectorizer(ngram_range=(n_gram_min, n_gram_max), # to use bigrams ngram_range=(2,2)\n",
        "                           lowercase = True ,stop_words='english')\n",
        "train_matrix = vectorizer.fit_transform(train['text'])\n",
        "test_matrix = vectorizer.transform(test['text'])"
      ],
      "execution_count": 117,
      "outputs": []
    },
    {
      "cell_type": "markdown",
      "metadata": {
        "id": "y2rUuMH2lEsf"
      },
      "source": [
        "**9.1. Extract features using TF-IDF Vectorizer from train and test data**"
      ]
    },
    {
      "cell_type": "code",
      "metadata": {
        "id": "6WFn16JQlP48"
      },
      "source": [
        "#vectorizer = CountVectorizer(token_pattern=r'\\b\\w+\\b')\n",
        "vectorizer = TfidfVectorizer(ngram_range=(n_gram_min, n_gram_max), # to use bigrams ngram_range=(2,2)\n",
        "                           lowercase = True ,stop_words='english')\n",
        "train_matrix = vectorizer.fit_transform(train['text'])\n",
        "test_matrix = vectorizer.transform(test['text'])"
      ],
      "execution_count": null,
      "outputs": []
    },
    {
      "cell_type": "markdown",
      "metadata": {
        "id": "desy8eT-hifA"
      },
      "source": [
        "**10. Create logistic regression model with default hyper parameters**"
      ]
    },
    {
      "cell_type": "code",
      "metadata": {
        "id": "AkdLI7Lyqk6E"
      },
      "source": [
        "lr = LogisticRegression()"
      ],
      "execution_count": 118,
      "outputs": []
    },
    {
      "cell_type": "markdown",
      "metadata": {
        "id": "8XrRIu1EhygZ"
      },
      "source": [
        "**11. Assign train and test data to the model**"
      ]
    },
    {
      "cell_type": "code",
      "metadata": {
        "id": "6Mx-h7gFqq0L"
      },
      "source": [
        "X_train = train_matrix\n",
        "X_test = test_matrix\n",
        "y_train = train['target']\n",
        "y_test = test['target']"
      ],
      "execution_count": 119,
      "outputs": []
    },
    {
      "cell_type": "markdown",
      "metadata": {
        "id": "TdF1KygFh4GD"
      },
      "source": [
        "**12. Fit train and test data**"
      ]
    },
    {
      "cell_type": "code",
      "metadata": {
        "colab": {
          "base_uri": "https://localhost:8080/"
        },
        "id": "QHjjOB3CqzDi",
        "outputId": "ffb936e6-e584-4421-97c7-851b00f1af3f"
      },
      "source": [
        "lr.fit(X_train,y_train)"
      ],
      "execution_count": 120,
      "outputs": [
        {
          "output_type": "stream",
          "text": [
            "/usr/local/lib/python3.7/dist-packages/sklearn/linear_model/_logistic.py:940: ConvergenceWarning: lbfgs failed to converge (status=1):\n",
            "STOP: TOTAL NO. of ITERATIONS REACHED LIMIT.\n",
            "\n",
            "Increase the number of iterations (max_iter) or scale the data as shown in:\n",
            "    https://scikit-learn.org/stable/modules/preprocessing.html\n",
            "Please also refer to the documentation for alternative solver options:\n",
            "    https://scikit-learn.org/stable/modules/linear_model.html#logistic-regression\n",
            "  extra_warning_msg=_LOGISTIC_SOLVER_CONVERGENCE_MSG)\n"
          ],
          "name": "stderr"
        },
        {
          "output_type": "execute_result",
          "data": {
            "text/plain": [
              "LogisticRegression(C=1.0, class_weight=None, dual=False, fit_intercept=True,\n",
              "                   intercept_scaling=1, l1_ratio=None, max_iter=100,\n",
              "                   multi_class='auto', n_jobs=None, penalty='l2',\n",
              "                   random_state=None, solver='lbfgs', tol=0.0001, verbose=0,\n",
              "                   warm_start=False)"
            ]
          },
          "metadata": {},
          "execution_count": 120
        }
      ]
    },
    {
      "cell_type": "markdown",
      "metadata": {
        "id": "UWXAfXvz20HF"
      },
      "source": [
        "**12.1- Save Logistic regression model**"
      ]
    },
    {
      "cell_type": "code",
      "metadata": {
        "id": "AgRnTF4v2y4h"
      },
      "source": [
        "#torch.save(lr.state_dict(), \"/content/gdrive/MyDrive/Colab Notebooks/datasets/logistic_regression.pt\")\n",
        "\n",
        "pickle.dump(lr, open(\"/content/gdrive/MyDrive/Colab Notebooks/datasets/logistic_regression.sav\", 'wb'))"
      ],
      "execution_count": 121,
      "outputs": []
    },
    {
      "cell_type": "markdown",
      "metadata": {
        "id": "yLrQXHsw45Kg"
      },
      "source": [
        "**12.2- Load Logistic regression model**"
      ]
    },
    {
      "cell_type": "code",
      "metadata": {
        "id": "QtAvaIWO4t0E"
      },
      "source": [
        "lr = pickle.load(open(\"/content/gdrive/MyDrive/Colab Notebooks/datasets/logistic_regression.sav\", 'rb'))"
      ],
      "execution_count": 82,
      "outputs": []
    },
    {
      "cell_type": "markdown",
      "metadata": {
        "id": "yL8_2zMviCUi"
      },
      "source": [
        "**13. Check the prediction of model using test data**"
      ]
    },
    {
      "cell_type": "code",
      "metadata": {
        "id": "08QmuXahq-U7",
        "colab": {
          "base_uri": "https://localhost:8080/"
        },
        "outputId": "03c236bb-c834-4ce2-e5b2-64b22a2be24e"
      },
      "source": [
        "print (X_test)\n",
        "\n",
        "predictions = lr.predict(X_test)"
      ],
      "execution_count": 122,
      "outputs": [
        {
          "output_type": "stream",
          "text": [
            "  (0, 51136)\t1\n",
            "  (0, 63571)\t1\n",
            "  (0, 101267)\t1\n",
            "  (0, 196081)\t1\n",
            "  (0, 268585)\t1\n",
            "  (0, 277306)\t1\n",
            "  (0, 316394)\t1\n",
            "  (1, 155883)\t1\n",
            "  (1, 216867)\t1\n",
            "  (2, 99136)\t1\n",
            "  (2, 141740)\t1\n",
            "  (2, 171948)\t1\n",
            "  (2, 264748)\t1\n",
            "  (2, 291885)\t1\n",
            "  (2, 335767)\t1\n",
            "  (2, 365801)\t1\n",
            "  (3, 45803)\t1\n",
            "  (3, 50933)\t1\n",
            "  (3, 70421)\t1\n",
            "  (4, 59451)\t1\n",
            "  (4, 79881)\t1\n",
            "  (4, 319269)\t1\n",
            "  (5, 159959)\t1\n",
            "  (5, 274982)\t1\n",
            "  (6, 97425)\t1\n",
            "  :\t:\n",
            "  (339094, 319269)\t1\n",
            "  (339094, 325210)\t1\n",
            "  (339094, 341353)\t1\n",
            "  (339094, 360591)\t1\n",
            "  (339095, 76118)\t1\n",
            "  (339095, 195166)\t1\n",
            "  (339096, 280078)\t1\n",
            "  (339097, 168543)\t1\n",
            "  (339097, 169853)\t1\n",
            "  (339097, 218987)\t1\n",
            "  (339097, 366996)\t1\n",
            "  (339098, 81810)\t1\n",
            "  (339098, 105114)\t1\n",
            "  (339098, 120079)\t1\n",
            "  (339098, 160596)\t1\n",
            "  (339098, 165031)\t1\n",
            "  (339098, 177575)\t1\n",
            "  (339098, 199904)\t1\n",
            "  (339098, 307623)\t1\n",
            "  (339098, 313193)\t1\n",
            "  (339098, 319269)\t1\n",
            "  (339099, 102511)\t1\n",
            "  (339099, 135312)\t1\n",
            "  (339099, 159959)\t1\n",
            "  (339099, 333521)\t1\n"
          ],
          "name": "stdout"
        }
      ]
    },
    {
      "cell_type": "markdown",
      "metadata": {
        "id": "YGStdIhXiNHA"
      },
      "source": [
        "**14. Print confusion matrix for logistic regression model**\n",
        "\n",
        "\n"
      ]
    },
    {
      "cell_type": "code",
      "metadata": {
        "colab": {
          "base_uri": "https://localhost:8080/"
        },
        "id": "DG66aImrrCH4",
        "outputId": "ca08832a-7baf-4ccb-92a4-57a448b9d67d"
      },
      "source": [
        "# find accuracy, precision, recall:\n",
        "from sklearn.metrics import confusion_matrix,classification_report\n",
        "new = np.asarray(y_test)\n",
        "confusion_matrix(predictions,y_test)"
      ],
      "execution_count": 123,
      "outputs": [
        {
          "output_type": "execute_result",
          "data": {
            "text/plain": [
              "array([[126925,  34401],\n",
              "       [ 42482, 135292]])"
            ]
          },
          "metadata": {},
          "execution_count": 123
        }
      ]
    },
    {
      "cell_type": "markdown",
      "metadata": {
        "id": "PU6gBU5Tie-E"
      },
      "source": [
        "**15. Evaluate regression model for sentiment analysis with precision, recall, accuracy and F-Score**"
      ]
    },
    {
      "cell_type": "code",
      "metadata": {
        "colab": {
          "base_uri": "https://localhost:8080/"
        },
        "id": "eYBvVizArO0z",
        "outputId": "ae07f1f7-1c1f-41c0-82ae-6ab3bbfb19e3"
      },
      "source": [
        "print(classification_report(predictions,y_test))"
      ],
      "execution_count": 124,
      "outputs": [
        {
          "output_type": "stream",
          "text": [
            "              precision    recall  f1-score   support\n",
            "\n",
            "           0       0.75      0.79      0.77    161326\n",
            "           4       0.80      0.76      0.78    177774\n",
            "\n",
            "    accuracy                           0.77    339100\n",
            "   macro avg       0.77      0.77      0.77    339100\n",
            "weighted avg       0.77      0.77      0.77    339100\n",
            "\n"
          ],
          "name": "stdout"
        }
      ]
    },
    {
      "cell_type": "markdown",
      "metadata": {
        "id": "IU1xz9DhmL15"
      },
      "source": [
        "## Support vector machine Algorithm"
      ]
    },
    {
      "cell_type": "markdown",
      "metadata": {
        "id": "C4RtSDijmSpp"
      },
      "source": [
        "**1. Create Random Forest Model**"
      ]
    },
    {
      "cell_type": "code",
      "metadata": {
        "id": "32uD8P11mK_c"
      },
      "source": [
        "clf = make_pipeline(StandardScaler(with_mean=False), LinearSVC())"
      ],
      "execution_count": null,
      "outputs": []
    },
    {
      "cell_type": "markdown",
      "metadata": {
        "id": "_9BU_MpFnpFl"
      },
      "source": [
        "**2. Train SVC Model**"
      ]
    },
    {
      "cell_type": "code",
      "metadata": {
        "id": "bOmG8YKvnmgJ",
        "colab": {
          "base_uri": "https://localhost:8080/"
        },
        "outputId": "7418ee4b-79e2-45a8-ca47-4c7a2458a51c"
      },
      "source": [
        "# Train the model on training data\n",
        "#rf.fit(X_train, y_train)\n",
        "clf.fit(X_train, y_train)\n",
        "#Pipeline(steps=[('standardscaler', StandardScaler(with_mean=False)),\n",
        "#                ('svc', LinearSVC())])"
      ],
      "execution_count": null,
      "outputs": [
        {
          "output_type": "stream",
          "text": [
            "/usr/local/lib/python3.7/dist-packages/sklearn/svm/_base.py:947: ConvergenceWarning: Liblinear failed to converge, increase the number of iterations.\n",
            "  \"the number of iterations.\", ConvergenceWarning)\n"
          ],
          "name": "stderr"
        },
        {
          "output_type": "execute_result",
          "data": {
            "text/plain": [
              "Pipeline(memory=None,\n",
              "         steps=[('standardscaler',\n",
              "                 StandardScaler(copy=True, with_mean=False, with_std=True)),\n",
              "                ('linearsvc',\n",
              "                 LinearSVC(C=1.0, class_weight=None, dual=True,\n",
              "                           fit_intercept=True, intercept_scaling=1,\n",
              "                           loss='squared_hinge', max_iter=1000,\n",
              "                           multi_class='ovr', penalty='l2', random_state=None,\n",
              "                           tol=0.0001, verbose=0))],\n",
              "         verbose=False)"
            ]
          },
          "metadata": {},
          "execution_count": 22
        }
      ]
    },
    {
      "cell_type": "markdown",
      "metadata": {
        "id": "AYYySP455oV3"
      },
      "source": [
        "**3.1. Save SVC Model**"
      ]
    },
    {
      "cell_type": "code",
      "metadata": {
        "id": "-TrJrtzx5jVJ"
      },
      "source": [
        "pickle.dump(clf, open(\"/content/gdrive/MyDrive/Colab Notebooks/datasets/svm.sav\", 'wb'))"
      ],
      "execution_count": null,
      "outputs": []
    },
    {
      "cell_type": "markdown",
      "metadata": {
        "id": "5qK5xYm-5LEF"
      },
      "source": [
        "**3.2. Load SVC Model**"
      ]
    },
    {
      "cell_type": "code",
      "metadata": {
        "id": "2BqhaxAk5Kbq"
      },
      "source": [
        "clf = pickle.load(open(\"/content/gdrive/MyDrive/Colab Notebooks/datasets/svm.sav\", 'rb'))"
      ],
      "execution_count": null,
      "outputs": []
    },
    {
      "cell_type": "markdown",
      "metadata": {
        "id": "DYqYDnBgoPjA"
      },
      "source": [
        "**3. Check the prediction of model using test data**"
      ]
    },
    {
      "cell_type": "code",
      "metadata": {
        "id": "0HpIcrH0oIuK"
      },
      "source": [
        "predictions = clf.predict(X_test)"
      ],
      "execution_count": null,
      "outputs": []
    },
    {
      "cell_type": "markdown",
      "metadata": {
        "id": "KRSY_FS4omCK"
      },
      "source": [
        "**4. Print confusion matrix for Random forest model**"
      ]
    },
    {
      "cell_type": "code",
      "metadata": {
        "id": "OvhbgkjaoTao",
        "colab": {
          "base_uri": "https://localhost:8080/"
        },
        "outputId": "505dd4ad-4f81-47b3-e45e-ce1febd46e88"
      },
      "source": [
        "# find accuracy, precision, recall:\n",
        "from sklearn.metrics import confusion_matrix,classification_report\n",
        "new = np.asarray(y_test)\n",
        "confusion_matrix(predictions,y_test)"
      ],
      "execution_count": null,
      "outputs": [
        {
          "output_type": "execute_result",
          "data": {
            "text/plain": [
              "array([[119876,  48990],\n",
              "       [ 49678, 121060]])"
            ]
          },
          "metadata": {},
          "execution_count": 25
        }
      ]
    },
    {
      "cell_type": "markdown",
      "metadata": {
        "id": "beSy3tnCo7ZL"
      },
      "source": [
        "**5. Evaluate regression model for sentiment analysis with precision, recall, accuracy and F-Score**"
      ]
    },
    {
      "cell_type": "code",
      "metadata": {
        "id": "DQ1dp3xyouuX",
        "colab": {
          "base_uri": "https://localhost:8080/"
        },
        "outputId": "19975360-4124-4ea0-f3b5-72f9e6c4f5c4"
      },
      "source": [
        "print(classification_report(predictions,y_test))"
      ],
      "execution_count": null,
      "outputs": [
        {
          "output_type": "stream",
          "text": [
            "              precision    recall  f1-score   support\n",
            "\n",
            "           0       0.71      0.71      0.71    168866\n",
            "           4       0.71      0.71      0.71    170738\n",
            "\n",
            "    accuracy                           0.71    339604\n",
            "   macro avg       0.71      0.71      0.71    339604\n",
            "weighted avg       0.71      0.71      0.71    339604\n",
            "\n"
          ],
          "name": "stdout"
        }
      ]
    },
    {
      "cell_type": "markdown",
      "metadata": {
        "id": "vD_BqlNF8-NW"
      },
      "source": [
        "# Loading Rémy dataset"
      ]
    },
    {
      "cell_type": "code",
      "metadata": {
        "colab": {
          "base_uri": "https://localhost:8080/",
          "height": 546
        },
        "id": "O8jaMU6C89Yy",
        "outputId": "b5d0bff3-0fc4-4b64-9c9d-10cdfa9f59a5"
      },
      "source": [
        "re_df = pd.read_csv('/content/gdrive/MyDrive/Colab Notebooks/datasets/extracted_geocoded_tweets.csv', encoding='latin1')\n",
        "print(\"Shape of df:\",re_df.shape)\n",
        "#print(\"Counts:\\n\",re_df.sentiment.value_counts())\n",
        "re_df.head(10)"
      ],
      "execution_count": 125,
      "outputs": [
        {
          "output_type": "stream",
          "text": [
            "Shape of df: (165538, 5)\n"
          ],
          "name": "stdout"
        },
        {
          "output_type": "execute_result",
          "data": {
            "text/html": [
              "<div>\n",
              "<style scoped>\n",
              "    .dataframe tbody tr th:only-of-type {\n",
              "        vertical-align: middle;\n",
              "    }\n",
              "\n",
              "    .dataframe tbody tr th {\n",
              "        vertical-align: top;\n",
              "    }\n",
              "\n",
              "    .dataframe thead th {\n",
              "        text-align: right;\n",
              "    }\n",
              "</style>\n",
              "<table border=\"1\" class=\"dataframe\">\n",
              "  <thead>\n",
              "    <tr style=\"text-align: right;\">\n",
              "      <th></th>\n",
              "      <th>location</th>\n",
              "      <th>date</th>\n",
              "      <th>text</th>\n",
              "      <th>created_at</th>\n",
              "      <th>id</th>\n",
              "    </tr>\n",
              "  </thead>\n",
              "  <tbody>\n",
              "    <tr>\n",
              "      <th>0</th>\n",
              "      <td>-1.9643961, 52.505005</td>\n",
              "      <td>'2020-02-12T22:56:31.000Z'</td>\n",
              "      <td>'@AlexeiDankevich @V2019N Apparently thatâs ...</td>\n",
              "      <td>'Wed Feb 12 22:56:31 +0000 2020'</td>\n",
              "      <td>1227728215717928961</td>\n",
              "    </tr>\n",
              "    <tr>\n",
              "      <th>1</th>\n",
              "      <td>-0.0736289, 53.567738</td>\n",
              "      <td>'2020-02-12T22:56:25.000Z'</td>\n",
              "      <td>'This should be the official butial of United ...</td>\n",
              "      <td>'Wed Feb 12 22:56:25 +0000 2020'</td>\n",
              "      <td>1227728189134381056</td>\n",
              "    </tr>\n",
              "    <tr>\n",
              "      <th>2</th>\n",
              "      <td>-4.114052, 56.78611</td>\n",
              "      <td>'2020-02-12T22:56:15.000Z'</td>\n",
              "      <td>'You could NOT MAKE THIS SHIT UP. Did they not...</td>\n",
              "      <td>'Wed Feb 12 22:56:15 +0000 2020'</td>\n",
              "      <td>1227728149221380098</td>\n",
              "    </tr>\n",
              "    <tr>\n",
              "      <th>3</th>\n",
              "      <td>-0.116588406, 51.514427</td>\n",
              "      <td>'2020-02-12T22:56:49.000Z'</td>\n",
              "      <td>'Tesla Autopilot Gracefully Avoids Road Obstru...</td>\n",
              "      <td>'Wed Feb 12 22:56:49 +0000 2020'</td>\n",
              "      <td>1227728293543104512</td>\n",
              "    </tr>\n",
              "    <tr>\n",
              "      <th>4</th>\n",
              "      <td>12.674297, 42.638428</td>\n",
              "      <td>'2020-02-12T22:56:52.000Z'</td>\n",
              "      <td>'Ing.Gironi Will MWC 2020 be canceled over cor...</td>\n",
              "      <td>'Wed Feb 12 22:56:52 +0000 2020'</td>\n",
              "      <td>1227728304976859137</td>\n",
              "    </tr>\n",
              "    <tr>\n",
              "      <th>5</th>\n",
              "      <td>-0.1276474, 51.50732</td>\n",
              "      <td>'2020-02-12T22:56:56.000Z'</td>\n",
              "      <td>'Banchester United ey https://t.co/NBtf0uWXwW'</td>\n",
              "      <td>'Wed Feb 12 22:56:56 +0000 2020'</td>\n",
              "      <td>1227728322915917824</td>\n",
              "    </tr>\n",
              "    <tr>\n",
              "      <th>6</th>\n",
              "      <td>-0.2427336, 52.57258</td>\n",
              "      <td>'2020-02-12T22:57:15.000Z'</td>\n",
              "      <td>'No fucking way ð­ð­ð­ð­ https://t.co/...</td>\n",
              "      <td>'Wed Feb 12 22:57:15 +0000 2020'</td>\n",
              "      <td>1227728399743045632</td>\n",
              "    </tr>\n",
              "    <tr>\n",
              "      <th>7</th>\n",
              "      <td>-2.2451148, 53.47949</td>\n",
              "      <td>'2020-02-12T22:57:04.000Z'</td>\n",
              "      <td>'Trending: Odion Ighalo âBANNED from Manches...</td>\n",
              "      <td>'Wed Feb 12 22:57:04 +0000 2020'</td>\n",
              "      <td>1227728355824410627</td>\n",
              "    </tr>\n",
              "    <tr>\n",
              "      <th>8</th>\n",
              "      <td>-0.5402403, 52.79548</td>\n",
              "      <td>'2020-02-12T22:57:05.000Z'</td>\n",
              "      <td>'Wait so itâs more than Ighalo? ð­ð­ð­...</td>\n",
              "      <td>'Wed Feb 12 22:57:05 +0000 2020'</td>\n",
              "      <td>1227728360475897856</td>\n",
              "    </tr>\n",
              "    <tr>\n",
              "      <th>9</th>\n",
              "      <td>-0.1276474, 51.50732</td>\n",
              "      <td>'2020-02-12T22:57:45.000Z'</td>\n",
              "      <td>'@PatersonLou its not easy as then all countri...</td>\n",
              "      <td>'Wed Feb 12 22:57:45 +0000 2020'</td>\n",
              "      <td>1227728528231235586</td>\n",
              "    </tr>\n",
              "  </tbody>\n",
              "</table>\n",
              "</div>"
            ],
            "text/plain": [
              "                  location                        date  \\\n",
              "0    -1.9643961, 52.505005  '2020-02-12T22:56:31.000Z'   \n",
              "1    -0.0736289, 53.567738  '2020-02-12T22:56:25.000Z'   \n",
              "2      -4.114052, 56.78611  '2020-02-12T22:56:15.000Z'   \n",
              "3  -0.116588406, 51.514427  '2020-02-12T22:56:49.000Z'   \n",
              "4     12.674297, 42.638428  '2020-02-12T22:56:52.000Z'   \n",
              "5     -0.1276474, 51.50732  '2020-02-12T22:56:56.000Z'   \n",
              "6     -0.2427336, 52.57258  '2020-02-12T22:57:15.000Z'   \n",
              "7     -2.2451148, 53.47949  '2020-02-12T22:57:04.000Z'   \n",
              "8     -0.5402403, 52.79548  '2020-02-12T22:57:05.000Z'   \n",
              "9     -0.1276474, 51.50732  '2020-02-12T22:57:45.000Z'   \n",
              "\n",
              "                                                text  \\\n",
              "0  '@AlexeiDankevich @V2019N Apparently thatâs ...   \n",
              "1  'This should be the official butial of United ...   \n",
              "2  'You could NOT MAKE THIS SHIT UP. Did they not...   \n",
              "3  'Tesla Autopilot Gracefully Avoids Road Obstru...   \n",
              "4  'Ing.Gironi Will MWC 2020 be canceled over cor...   \n",
              "5     'Banchester United ey https://t.co/NBtf0uWXwW'   \n",
              "6  'No fucking way ð­ð­ð­ð­ https://t.co/...   \n",
              "7  'Trending: Odion Ighalo âBANNED from Manches...   \n",
              "8  'Wait so itâs more than Ighalo? ð­ð­ð­...   \n",
              "9  '@PatersonLou its not easy as then all countri...   \n",
              "\n",
              "                         created_at                   id  \n",
              "0  'Wed Feb 12 22:56:31 +0000 2020'  1227728215717928961  \n",
              "1  'Wed Feb 12 22:56:25 +0000 2020'  1227728189134381056  \n",
              "2  'Wed Feb 12 22:56:15 +0000 2020'  1227728149221380098  \n",
              "3  'Wed Feb 12 22:56:49 +0000 2020'  1227728293543104512  \n",
              "4  'Wed Feb 12 22:56:52 +0000 2020'  1227728304976859137  \n",
              "5  'Wed Feb 12 22:56:56 +0000 2020'  1227728322915917824  \n",
              "6  'Wed Feb 12 22:57:15 +0000 2020'  1227728399743045632  \n",
              "7  'Wed Feb 12 22:57:04 +0000 2020'  1227728355824410627  \n",
              "8  'Wed Feb 12 22:57:05 +0000 2020'  1227728360475897856  \n",
              "9  'Wed Feb 12 22:57:45 +0000 2020'  1227728528231235586  "
            ]
          },
          "metadata": {},
          "execution_count": 125
        }
      ]
    },
    {
      "cell_type": "markdown",
      "metadata": {
        "id": "UiQjUDF4-hWN"
      },
      "source": [
        "**1. Data Preprocessing of prediction dataset**"
      ]
    },
    {
      "cell_type": "code",
      "metadata": {
        "id": "7ryjAel5-aQG",
        "colab": {
          "base_uri": "https://localhost:8080/",
          "height": 306
        },
        "outputId": "cdbadc73-1d28-4f77-8991-c78abaa3c755"
      },
      "source": [
        "#re_df['text'] = re_df['text'].apply(p.clean) \n",
        "#re_df['text'] = re_df['text'].apply(remove_punctuation)\n",
        "#re_df['text'] = re_df['text'].apply(str.lower)\n",
        "re_df['processed_text'] = re_df['text'].apply(preprocessing)\n",
        "re_df.head(5)"
      ],
      "execution_count": 126,
      "outputs": [
        {
          "output_type": "execute_result",
          "data": {
            "text/html": [
              "<div>\n",
              "<style scoped>\n",
              "    .dataframe tbody tr th:only-of-type {\n",
              "        vertical-align: middle;\n",
              "    }\n",
              "\n",
              "    .dataframe tbody tr th {\n",
              "        vertical-align: top;\n",
              "    }\n",
              "\n",
              "    .dataframe thead th {\n",
              "        text-align: right;\n",
              "    }\n",
              "</style>\n",
              "<table border=\"1\" class=\"dataframe\">\n",
              "  <thead>\n",
              "    <tr style=\"text-align: right;\">\n",
              "      <th></th>\n",
              "      <th>location</th>\n",
              "      <th>date</th>\n",
              "      <th>text</th>\n",
              "      <th>created_at</th>\n",
              "      <th>id</th>\n",
              "      <th>processed_text</th>\n",
              "    </tr>\n",
              "  </thead>\n",
              "  <tbody>\n",
              "    <tr>\n",
              "      <th>0</th>\n",
              "      <td>-1.9643961, 52.505005</td>\n",
              "      <td>'2020-02-12T22:56:31.000Z'</td>\n",
              "      <td>'@AlexeiDankevich @V2019N Apparently thatâs ...</td>\n",
              "      <td>'Wed Feb 12 22:56:31 +0000 2020'</td>\n",
              "      <td>1227728215717928961</td>\n",
              "      <td>' apparently thats to do with them reaching ca...</td>\n",
              "    </tr>\n",
              "    <tr>\n",
              "      <th>1</th>\n",
              "      <td>-0.0736289, 53.567738</td>\n",
              "      <td>'2020-02-12T22:56:25.000Z'</td>\n",
              "      <td>'This should be the official butial of United ...</td>\n",
              "      <td>'Wed Feb 12 22:56:25 +0000 2020'</td>\n",
              "      <td>1227728189134381056</td>\n",
              "      <td>'this should be the official butial of united ...</td>\n",
              "    </tr>\n",
              "    <tr>\n",
              "      <th>2</th>\n",
              "      <td>-4.114052, 56.78611</td>\n",
              "      <td>'2020-02-12T22:56:15.000Z'</td>\n",
              "      <td>'You could NOT MAKE THIS SHIT UP. Did they not...</td>\n",
              "      <td>'Wed Feb 12 22:56:15 +0000 2020'</td>\n",
              "      <td>1227728149221380098</td>\n",
              "      <td>'you could not make this shit up did they not ...</td>\n",
              "    </tr>\n",
              "    <tr>\n",
              "      <th>3</th>\n",
              "      <td>-0.116588406, 51.514427</td>\n",
              "      <td>'2020-02-12T22:56:49.000Z'</td>\n",
              "      <td>'Tesla Autopilot Gracefully Avoids Road Obstru...</td>\n",
              "      <td>'Wed Feb 12 22:56:49 +0000 2020'</td>\n",
              "      <td>1227728293543104512</td>\n",
              "      <td>'tesla autopilot gracefully avoids road obstru...</td>\n",
              "    </tr>\n",
              "    <tr>\n",
              "      <th>4</th>\n",
              "      <td>12.674297, 42.638428</td>\n",
              "      <td>'2020-02-12T22:56:52.000Z'</td>\n",
              "      <td>'Ing.Gironi Will MWC 2020 be canceled over cor...</td>\n",
              "      <td>'Wed Feb 12 22:56:52 +0000 2020'</td>\n",
              "      <td>1227728304976859137</td>\n",
              "      <td>'inggironi will mwc be canceled over coronavir...</td>\n",
              "    </tr>\n",
              "  </tbody>\n",
              "</table>\n",
              "</div>"
            ],
            "text/plain": [
              "                  location                        date  \\\n",
              "0    -1.9643961, 52.505005  '2020-02-12T22:56:31.000Z'   \n",
              "1    -0.0736289, 53.567738  '2020-02-12T22:56:25.000Z'   \n",
              "2      -4.114052, 56.78611  '2020-02-12T22:56:15.000Z'   \n",
              "3  -0.116588406, 51.514427  '2020-02-12T22:56:49.000Z'   \n",
              "4     12.674297, 42.638428  '2020-02-12T22:56:52.000Z'   \n",
              "\n",
              "                                                text  \\\n",
              "0  '@AlexeiDankevich @V2019N Apparently thatâs ...   \n",
              "1  'This should be the official butial of United ...   \n",
              "2  'You could NOT MAKE THIS SHIT UP. Did they not...   \n",
              "3  'Tesla Autopilot Gracefully Avoids Road Obstru...   \n",
              "4  'Ing.Gironi Will MWC 2020 be canceled over cor...   \n",
              "\n",
              "                         created_at                   id  \\\n",
              "0  'Wed Feb 12 22:56:31 +0000 2020'  1227728215717928961   \n",
              "1  'Wed Feb 12 22:56:25 +0000 2020'  1227728189134381056   \n",
              "2  'Wed Feb 12 22:56:15 +0000 2020'  1227728149221380098   \n",
              "3  'Wed Feb 12 22:56:49 +0000 2020'  1227728293543104512   \n",
              "4  'Wed Feb 12 22:56:52 +0000 2020'  1227728304976859137   \n",
              "\n",
              "                                      processed_text  \n",
              "0  ' apparently thats to do with them reaching ca...  \n",
              "1  'this should be the official butial of united ...  \n",
              "2  'you could not make this shit up did they not ...  \n",
              "3  'tesla autopilot gracefully avoids road obstru...  \n",
              "4  'inggironi will mwc be canceled over coronavir...  "
            ]
          },
          "metadata": {},
          "execution_count": 126
        }
      ]
    },
    {
      "cell_type": "code",
      "metadata": {
        "colab": {
          "base_uri": "https://localhost:8080/",
          "height": 272
        },
        "id": "GpFK-3o6QR13",
        "outputId": "2b61f0dc-cb79-48c7-d88e-1d3c0e7a89df"
      },
      "source": [
        "# predict_lr = lr.predict(re_df['text'])\n",
        "\n",
        "\n",
        "pred_matrix = vectorizer.transform(re_df['text'])\n",
        "\n",
        "pred =  lr.predict(pred_matrix)\n",
        "\n",
        "re_df['sentiment'] = pred \n",
        "print(\"Counts:\\n\",re_df.sentiment.value_counts())\n",
        "\n",
        "#spatial_df = re_df[['location','text','sentiment']] \n",
        "re_df[['location','text','sentiment']].head()"
      ],
      "execution_count": 127,
      "outputs": [
        {
          "output_type": "stream",
          "text": [
            "Counts:\n",
            " 0    84640\n",
            "4    80898\n",
            "Name: sentiment, dtype: int64\n"
          ],
          "name": "stdout"
        },
        {
          "output_type": "execute_result",
          "data": {
            "text/html": [
              "<div>\n",
              "<style scoped>\n",
              "    .dataframe tbody tr th:only-of-type {\n",
              "        vertical-align: middle;\n",
              "    }\n",
              "\n",
              "    .dataframe tbody tr th {\n",
              "        vertical-align: top;\n",
              "    }\n",
              "\n",
              "    .dataframe thead th {\n",
              "        text-align: right;\n",
              "    }\n",
              "</style>\n",
              "<table border=\"1\" class=\"dataframe\">\n",
              "  <thead>\n",
              "    <tr style=\"text-align: right;\">\n",
              "      <th></th>\n",
              "      <th>location</th>\n",
              "      <th>text</th>\n",
              "      <th>sentiment</th>\n",
              "    </tr>\n",
              "  </thead>\n",
              "  <tbody>\n",
              "    <tr>\n",
              "      <th>0</th>\n",
              "      <td>-1.9643961, 52.505005</td>\n",
              "      <td>'@AlexeiDankevich @V2019N Apparently thatâs ...</td>\n",
              "      <td>0</td>\n",
              "    </tr>\n",
              "    <tr>\n",
              "      <th>1</th>\n",
              "      <td>-0.0736289, 53.567738</td>\n",
              "      <td>'This should be the official butial of United ...</td>\n",
              "      <td>4</td>\n",
              "    </tr>\n",
              "    <tr>\n",
              "      <th>2</th>\n",
              "      <td>-4.114052, 56.78611</td>\n",
              "      <td>'You could NOT MAKE THIS SHIT UP. Did they not...</td>\n",
              "      <td>0</td>\n",
              "    </tr>\n",
              "    <tr>\n",
              "      <th>3</th>\n",
              "      <td>-0.116588406, 51.514427</td>\n",
              "      <td>'Tesla Autopilot Gracefully Avoids Road Obstru...</td>\n",
              "      <td>4</td>\n",
              "    </tr>\n",
              "    <tr>\n",
              "      <th>4</th>\n",
              "      <td>12.674297, 42.638428</td>\n",
              "      <td>'Ing.Gironi Will MWC 2020 be canceled over cor...</td>\n",
              "      <td>0</td>\n",
              "    </tr>\n",
              "  </tbody>\n",
              "</table>\n",
              "</div>"
            ],
            "text/plain": [
              "                  location                                               text  \\\n",
              "0    -1.9643961, 52.505005  '@AlexeiDankevich @V2019N Apparently thatâs ...   \n",
              "1    -0.0736289, 53.567738  'This should be the official butial of United ...   \n",
              "2      -4.114052, 56.78611  'You could NOT MAKE THIS SHIT UP. Did they not...   \n",
              "3  -0.116588406, 51.514427  'Tesla Autopilot Gracefully Avoids Road Obstru...   \n",
              "4     12.674297, 42.638428  'Ing.Gironi Will MWC 2020 be canceled over cor...   \n",
              "\n",
              "   sentiment  \n",
              "0          0  \n",
              "1          4  \n",
              "2          0  \n",
              "3          4  \n",
              "4          0  "
            ]
          },
          "metadata": {},
          "execution_count": 127
        }
      ]
    }
  ]
}